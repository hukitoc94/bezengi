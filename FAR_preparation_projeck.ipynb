{
 "cells": [
  {
   "cell_type": "code",
   "execution_count": 57,
   "metadata": {},
   "outputs": [],
   "source": [
    "import pandas as pd \n",
    "import numpy as np\n",
    "import geopandas as gpd"
   ]
  },
  {
   "cell_type": "markdown",
   "metadata": {},
   "source": [
    "привязка данных OSM к классификатору"
   ]
  },
  {
   "cell_type": "code",
   "execution_count": 39,
   "metadata": {},
   "outputs": [
    {
     "name": "stderr",
     "output_type": "stream",
     "text": [
      "C:\\Users\\ermolaevNR\\.conda\\envs\\GIS38\\lib\\site-packages\\geopandas\\geodataframe.py:577: RuntimeWarning: Sequential read of iterator was interrupted. Resetting iterator. This can negatively impact the performance.\n",
      "  for feature in features_lst:\n"
     ]
    }
   ],
   "source": [
    "peaks_osm = gpd.read_file('bezengi_data.gpkg', layer = 'peaks')[['full_id', \"name\", \"geometry\"]]\n",
    "peaks_far = pd.read_excel('classificator/classificator.xlsx')"
   ]
  },
  {
   "cell_type": "code",
   "execution_count": 40,
   "metadata": {},
   "outputs": [
    {
     "data": {
      "text/plain": [
       "<AxesSubplot:>"
      ]
     },
     "execution_count": 40,
     "metadata": {},
     "output_type": "execute_result"
    },
    {
     "data": {
      "image/png": "[encoded data removed]",
      "text/plain": [
       "<Figure size 432x288 with 1 Axes>"
      ]
     },
     "metadata": {
      "needs_background": "light"
     },
     "output_type": "display_data"
    }
   ],
   "source": [
    "peaks_osm.plot()"
   ]
  },
  {
   "cell_type": "code",
   "execution_count": 41,
   "metadata": {},
   "outputs": [],
   "source": [
    "peaks_osm[\"name_\"] = peaks_osm.name.str.lower()\n",
    "peaks_far[\"name_\"] = peaks_far[\"Наименование вершины\"].str.lower()\n",
    "\n"
   ]
  },
  {
   "cell_type": "code",
   "execution_count": 42,
   "metadata": {},
   "outputs": [
    {
     "data": {
      "text/html": [
       "<div>\n",
       "<style scoped>\n",
       "    .dataframe tbody tr th:only-of-type {\n",
       "        vertical-align: middle;\n",
       "    }\n",
       "\n",
       "    .dataframe tbody tr th {\n",
       "        vertical-align: top;\n",
       "    }\n",
       "\n",
       "    .dataframe thead th {\n",
       "        text-align: right;\n",
       "    }\n",
       "</style>\n",
       "<table border=\"1\" class=\"dataframe\">\n",
       "  <thead>\n",
       "    <tr style=\"text-align: right;\">\n",
       "      <th></th>\n",
       "      <th>№ п.п.</th>\n",
       "      <th>Наименование вершины</th>\n",
       "      <th>Высота в м</th>\n",
       "      <th>Категория сложности</th>\n",
       "      <th>Характер маршрута</th>\n",
       "      <th>Маршрут</th>\n",
       "      <th>Руководитель, год прохождения</th>\n",
       "      <th>name_</th>\n",
       "    </tr>\n",
       "  </thead>\n",
       "  <tbody>\n",
       "    <tr>\n",
       "      <th>0</th>\n",
       "      <td>1</td>\n",
       "      <td>Агунда</td>\n",
       "      <td>3984.0</td>\n",
       "      <td>2А</td>\n",
       "      <td>к</td>\n",
       "      <td>З гребню</td>\n",
       "      <td>В. Заряев, 2016</td>\n",
       "      <td>агунда</td>\n",
       "    </tr>\n",
       "    <tr>\n",
       "      <th>1</th>\n",
       "      <td>2</td>\n",
       "      <td>Ак-Кая</td>\n",
       "      <td>3367.0</td>\n",
       "      <td>5Б</td>\n",
       "      <td>ск</td>\n",
       "      <td>левой части ЮЗ стены</td>\n",
       "      <td>О. Шаров, 1979</td>\n",
       "      <td>ак-кая</td>\n",
       "    </tr>\n",
       "    <tr>\n",
       "      <th>2</th>\n",
       "      <td>3</td>\n",
       "      <td>Ак-Кая</td>\n",
       "      <td>3367.0</td>\n",
       "      <td>5Б</td>\n",
       "      <td>ск</td>\n",
       "      <td>левой части ЮЗ стены</td>\n",
       "      <td>К. Корабельников, 2003</td>\n",
       "      <td>ак-кая</td>\n",
       "    </tr>\n",
       "    <tr>\n",
       "      <th>3</th>\n",
       "      <td>4</td>\n",
       "      <td>Ак-Кая</td>\n",
       "      <td>3367.0</td>\n",
       "      <td>5Б</td>\n",
       "      <td>ск</td>\n",
       "      <td>ЮЗ стене</td>\n",
       "      <td>Б. Васильев, 1979</td>\n",
       "      <td>ак-кая</td>\n",
       "    </tr>\n",
       "    <tr>\n",
       "      <th>4</th>\n",
       "      <td>5</td>\n",
       "      <td>Ак-Кая</td>\n",
       "      <td>3367.0</td>\n",
       "      <td>5Б</td>\n",
       "      <td>ск</td>\n",
       "      <td>ЮЗ стене</td>\n",
       "      <td>В. Шамало, 2003</td>\n",
       "      <td>ак-кая</td>\n",
       "    </tr>\n",
       "    <tr>\n",
       "      <th>...</th>\n",
       "      <td>...</td>\n",
       "      <td>...</td>\n",
       "      <td>...</td>\n",
       "      <td>...</td>\n",
       "      <td>...</td>\n",
       "      <td>...</td>\n",
       "      <td>...</td>\n",
       "      <td>...</td>\n",
       "    </tr>\n",
       "    <tr>\n",
       "      <th>260</th>\n",
       "      <td>250</td>\n",
       "      <td>Экрздыген</td>\n",
       "      <td>3160.0</td>\n",
       "      <td>1Бз</td>\n",
       "      <td>к</td>\n",
       "      <td>С гребню</td>\n",
       "      <td>Т. Тимошенко, 2012</td>\n",
       "      <td>экрздыген</td>\n",
       "    </tr>\n",
       "    <tr>\n",
       "      <th>261</th>\n",
       "      <td>251</td>\n",
       "      <td>4310</td>\n",
       "      <td>4310.0</td>\n",
       "      <td>3Б</td>\n",
       "      <td>к</td>\n",
       "      <td>СВ гребню</td>\n",
       "      <td>В. Соловей, 1932</td>\n",
       "      <td>NaN</td>\n",
       "    </tr>\n",
       "    <tr>\n",
       "      <th>262</th>\n",
       "      <td>252</td>\n",
       "      <td>4310 – Гестола</td>\n",
       "      <td>NaN</td>\n",
       "      <td>4А</td>\n",
       "      <td>к</td>\n",
       "      <td>СВ гребню, траверс</td>\n",
       "      <td>А. Гермогенов, 1932</td>\n",
       "      <td>4310 – гестола</td>\n",
       "    </tr>\n",
       "    <tr>\n",
       "      <th>263</th>\n",
       "      <td>253</td>\n",
       "      <td>4443</td>\n",
       "      <td>4443.0</td>\n",
       "      <td>3Б</td>\n",
       "      <td>к</td>\n",
       "      <td>ЮЗ кулуару и СЗ гребню</td>\n",
       "      <td>Н. Анисимов, 2004</td>\n",
       "      <td>NaN</td>\n",
       "    </tr>\n",
       "    <tr>\n",
       "      <th>264</th>\n",
       "      <td>254</td>\n",
       "      <td>3711</td>\n",
       "      <td>3711.0</td>\n",
       "      <td>1Б</td>\n",
       "      <td>ск</td>\n",
       "      <td>С гребню</td>\n",
       "      <td>А. Слотюк, 2019</td>\n",
       "      <td>NaN</td>\n",
       "    </tr>\n",
       "  </tbody>\n",
       "</table>\n",
       "<p>265 rows × 8 columns</p>\n",
       "</div>"
      ],
      "text/plain": [
       "    № п.п. Наименование вершины  Высота в м Категория сложности  \\\n",
       "0        1               Агунда      3984.0                  2А   \n",
       "1        2               Ак-Кая      3367.0                  5Б   \n",
       "2        3               Ак-Кая      3367.0                  5Б   \n",
       "3        4               Ак-Кая      3367.0                  5Б   \n",
       "4        5               Ак-Кая      3367.0                  5Б   \n",
       "..     ...                  ...         ...                 ...   \n",
       "260    250            Экрздыген      3160.0                 1Бз   \n",
       "261    251                 4310      4310.0                  3Б   \n",
       "262    252       4310 – Гестола         NaN                  4А   \n",
       "263    253                 4443      4443.0                  3Б   \n",
       "264    254                 3711      3711.0                  1Б   \n",
       "\n",
       "    Характер маршрута                 Маршрут Руководитель, год прохождения  \\\n",
       "0                   к                З гребню               В. Заряев, 2016   \n",
       "1                  ск    левой части ЮЗ стены                О. Шаров, 1979   \n",
       "2                  ск    левой части ЮЗ стены        К. Корабельников, 2003   \n",
       "3                  ск                ЮЗ стене             Б. Васильев, 1979   \n",
       "4                  ск                ЮЗ стене               В. Шамало, 2003   \n",
       "..                ...                     ...                           ...   \n",
       "260                 к                С гребню            Т. Тимошенко, 2012   \n",
       "261                 к               СВ гребню              В. Соловей, 1932   \n",
       "262                 к      СВ гребню, траверс           А. Гермогенов, 1932   \n",
       "263                 к  ЮЗ кулуару и СЗ гребню             Н. Анисимов, 2004   \n",
       "264                ск                С гребню               А. Слотюк, 2019   \n",
       "\n",
       "              name_  \n",
       "0            агунда  \n",
       "1            ак-кая  \n",
       "2            ак-кая  \n",
       "3            ак-кая  \n",
       "4            ак-кая  \n",
       "..              ...  \n",
       "260       экрздыген  \n",
       "261             NaN  \n",
       "262  4310 – гестола  \n",
       "263             NaN  \n",
       "264             NaN  \n",
       "\n",
       "[265 rows x 8 columns]"
      ]
     },
     "execution_count": 42,
     "metadata": {},
     "output_type": "execute_result"
    }
   ],
   "source": [
    "peaks_far"
   ]
  },
  {
   "cell_type": "code",
   "execution_count": 44,
   "metadata": {},
   "outputs": [
    {
     "data": {
      "text/html": [
       "<div>\n",
       "<style scoped>\n",
       "    .dataframe tbody tr th:only-of-type {\n",
       "        vertical-align: middle;\n",
       "    }\n",
       "\n",
       "    .dataframe tbody tr th {\n",
       "        vertical-align: top;\n",
       "    }\n",
       "\n",
       "    .dataframe thead th {\n",
       "        text-align: right;\n",
       "    }\n",
       "</style>\n",
       "<table border=\"1\" class=\"dataframe\">\n",
       "  <thead>\n",
       "    <tr style=\"text-align: right;\">\n",
       "      <th></th>\n",
       "      <th>full_id</th>\n",
       "      <th>name</th>\n",
       "      <th>geometry</th>\n",
       "      <th>name_</th>\n",
       "      <th>№ п.п.</th>\n",
       "      <th>Наименование вершины</th>\n",
       "      <th>Высота в м</th>\n",
       "      <th>Категория сложности</th>\n",
       "      <th>Характер маршрута</th>\n",
       "      <th>Маршрут</th>\n",
       "      <th>Руководитель, год прохождения</th>\n",
       "    </tr>\n",
       "  </thead>\n",
       "  <tbody>\n",
       "    <tr>\n",
       "      <th>0</th>\n",
       "      <td>n287407114</td>\n",
       "      <td>Дыхтау (Гл.)</td>\n",
       "      <td>MULTIPOINT (43.13318 43.05222)</td>\n",
       "      <td>дыхтау (гл.)</td>\n",
       "      <td>63</td>\n",
       "      <td>Дыхтау (Гл.)</td>\n",
       "      <td>5223.0</td>\n",
       "      <td>4Б</td>\n",
       "      <td>к</td>\n",
       "      <td>С гребню</td>\n",
       "      <td>Д. Коккин, 1888</td>\n",
       "    </tr>\n",
       "    <tr>\n",
       "      <th>1</th>\n",
       "      <td>n287407114</td>\n",
       "      <td>Дыхтау (Гл.)</td>\n",
       "      <td>MULTIPOINT (43.13318 43.05222)</td>\n",
       "      <td>дыхтау (гл.)</td>\n",
       "      <td>64</td>\n",
       "      <td>Дыхтау (Гл.)</td>\n",
       "      <td>5223.0</td>\n",
       "      <td>4Б</td>\n",
       "      <td>к</td>\n",
       "      <td>ЮЗ гребню</td>\n",
       "      <td>А. Муммери, 1888</td>\n",
       "    </tr>\n",
       "    <tr>\n",
       "      <th>2</th>\n",
       "      <td>n287407114</td>\n",
       "      <td>Дыхтау (Гл.)</td>\n",
       "      <td>MULTIPOINT (43.13318 43.05222)</td>\n",
       "      <td>дыхтау (гл.)</td>\n",
       "      <td>65</td>\n",
       "      <td>Дыхтау (Гл.)</td>\n",
       "      <td>5223.0</td>\n",
       "      <td>4Б</td>\n",
       "      <td>к</td>\n",
       "      <td>З гребню</td>\n",
       "      <td>Б. Гарф, 1938</td>\n",
       "    </tr>\n",
       "    <tr>\n",
       "      <th>3</th>\n",
       "      <td>n287407114</td>\n",
       "      <td>Дыхтау (Гл.)</td>\n",
       "      <td>MULTIPOINT (43.13318 43.05222)</td>\n",
       "      <td>дыхтау (гл.)</td>\n",
       "      <td>66</td>\n",
       "      <td>Дыхтау (Гл.)</td>\n",
       "      <td>5223.0</td>\n",
       "      <td>5А</td>\n",
       "      <td>к</td>\n",
       "      <td>В кф. С гребня</td>\n",
       "      <td>Н. Иванов, 1982</td>\n",
       "    </tr>\n",
       "    <tr>\n",
       "      <th>4</th>\n",
       "      <td>n287407114</td>\n",
       "      <td>Дыхтау (Гл.)</td>\n",
       "      <td>MULTIPOINT (43.13318 43.05222)</td>\n",
       "      <td>дыхтау (гл.)</td>\n",
       "      <td>67</td>\n",
       "      <td>Дыхтау (Гл.)</td>\n",
       "      <td>5223.0</td>\n",
       "      <td>5А</td>\n",
       "      <td>к</td>\n",
       "      <td>ЮЗ склону</td>\n",
       "      <td>Е. Гасилов, 1984</td>\n",
       "    </tr>\n",
       "    <tr>\n",
       "      <th>...</th>\n",
       "      <td>...</td>\n",
       "      <td>...</td>\n",
       "      <td>...</td>\n",
       "      <td>...</td>\n",
       "      <td>...</td>\n",
       "      <td>...</td>\n",
       "      <td>...</td>\n",
       "      <td>...</td>\n",
       "      <td>...</td>\n",
       "      <td>...</td>\n",
       "      <td>...</td>\n",
       "    </tr>\n",
       "    <tr>\n",
       "      <th>172</th>\n",
       "      <td>n6012735522</td>\n",
       "      <td>Семеновского</td>\n",
       "      <td>MULTIPOINT (43.09896 43.05073)</td>\n",
       "      <td>семеновского</td>\n",
       "      <td>175</td>\n",
       "      <td>Семеновского</td>\n",
       "      <td>4082.0</td>\n",
       "      <td>1Б</td>\n",
       "      <td>ск</td>\n",
       "      <td>Ю гребню</td>\n",
       "      <td>Ю. Слезин, 1963</td>\n",
       "    </tr>\n",
       "    <tr>\n",
       "      <th>173</th>\n",
       "      <td>n6012735522</td>\n",
       "      <td>Семеновского</td>\n",
       "      <td>MULTIPOINT (43.09896 43.05073)</td>\n",
       "      <td>семеновского</td>\n",
       "      <td>176</td>\n",
       "      <td>Семеновского</td>\n",
       "      <td>4082.0</td>\n",
       "      <td>2А</td>\n",
       "      <td>к</td>\n",
       "      <td>В гребню</td>\n",
       "      <td>Ю. Саратов, 1975</td>\n",
       "    </tr>\n",
       "    <tr>\n",
       "      <th>174</th>\n",
       "      <td>n6012735522</td>\n",
       "      <td>Семеновского</td>\n",
       "      <td>MULTIPOINT (43.09896 43.05073)</td>\n",
       "      <td>семеновского</td>\n",
       "      <td>177</td>\n",
       "      <td>Семеновского</td>\n",
       "      <td>4082.0</td>\n",
       "      <td>2Б</td>\n",
       "      <td>к</td>\n",
       "      <td>с запада по леднику</td>\n",
       "      <td>В. Макаров, 1986</td>\n",
       "    </tr>\n",
       "    <tr>\n",
       "      <th>175</th>\n",
       "      <td>n6012735522</td>\n",
       "      <td>Семеновского</td>\n",
       "      <td>MULTIPOINT (43.09896 43.05073)</td>\n",
       "      <td>семеновского</td>\n",
       "      <td>178</td>\n",
       "      <td>Семеновского</td>\n",
       "      <td>4082.0</td>\n",
       "      <td>3А</td>\n",
       "      <td>к</td>\n",
       "      <td>СЗ кф.</td>\n",
       "      <td>А. Паункскнис, 1964</td>\n",
       "    </tr>\n",
       "    <tr>\n",
       "      <th>176</th>\n",
       "      <td>n6012735522</td>\n",
       "      <td>Семеновского</td>\n",
       "      <td>MULTIPOINT (43.09896 43.05073)</td>\n",
       "      <td>семеновского</td>\n",
       "      <td>179</td>\n",
       "      <td>Семеновского</td>\n",
       "      <td>4082.0</td>\n",
       "      <td>3Б</td>\n",
       "      <td>лс</td>\n",
       "      <td>С стене</td>\n",
       "      <td>В. Андриенко, 1980</td>\n",
       "    </tr>\n",
       "  </tbody>\n",
       "</table>\n",
       "<p>177 rows × 11 columns</p>\n",
       "</div>"
      ],
      "text/plain": [
       "         full_id          name                        geometry         name_  \\\n",
       "0     n287407114  Дыхтау (Гл.)  MULTIPOINT (43.13318 43.05222)  дыхтау (гл.)   \n",
       "1     n287407114  Дыхтау (Гл.)  MULTIPOINT (43.13318 43.05222)  дыхтау (гл.)   \n",
       "2     n287407114  Дыхтау (Гл.)  MULTIPOINT (43.13318 43.05222)  дыхтау (гл.)   \n",
       "3     n287407114  Дыхтау (Гл.)  MULTIPOINT (43.13318 43.05222)  дыхтау (гл.)   \n",
       "4     n287407114  Дыхтау (Гл.)  MULTIPOINT (43.13318 43.05222)  дыхтау (гл.)   \n",
       "..           ...           ...                             ...           ...   \n",
       "172  n6012735522  Семеновского  MULTIPOINT (43.09896 43.05073)  семеновского   \n",
       "173  n6012735522  Семеновского  MULTIPOINT (43.09896 43.05073)  семеновского   \n",
       "174  n6012735522  Семеновского  MULTIPOINT (43.09896 43.05073)  семеновского   \n",
       "175  n6012735522  Семеновского  MULTIPOINT (43.09896 43.05073)  семеновского   \n",
       "176  n6012735522  Семеновского  MULTIPOINT (43.09896 43.05073)  семеновского   \n",
       "\n",
       "    № п.п. Наименование вершины  Высота в м Категория сложности  \\\n",
       "0       63         Дыхтау (Гл.)      5223.0                  4Б   \n",
       "1       64         Дыхтау (Гл.)      5223.0                  4Б   \n",
       "2       65         Дыхтау (Гл.)      5223.0                  4Б   \n",
       "3       66         Дыхтау (Гл.)      5223.0                  5А   \n",
       "4       67         Дыхтау (Гл.)      5223.0                  5А   \n",
       "..     ...                  ...         ...                 ...   \n",
       "172    175         Семеновского      4082.0                  1Б   \n",
       "173    176         Семеновского      4082.0                  2А   \n",
       "174    177         Семеновского      4082.0                  2Б   \n",
       "175    178         Семеновского      4082.0                  3А   \n",
       "176    179         Семеновского      4082.0                  3Б   \n",
       "\n",
       "    Характер маршрута              Маршрут Руководитель, год прохождения  \n",
       "0                   к             С гребню               Д. Коккин, 1888  \n",
       "1                   к            ЮЗ гребню              А. Муммери, 1888  \n",
       "2                   к             З гребню                 Б. Гарф, 1938  \n",
       "3                   к       В кф. С гребня               Н. Иванов, 1982  \n",
       "4                   к            ЮЗ склону              Е. Гасилов, 1984  \n",
       "..                ...                  ...                           ...  \n",
       "172                ск             Ю гребню               Ю. Слезин, 1963  \n",
       "173                 к             В гребню              Ю. Саратов, 1975  \n",
       "174                 к  с запада по леднику              В. Макаров, 1986  \n",
       "175                 к               СЗ кф.           А. Паункскнис, 1964  \n",
       "176                лс              С стене            В. Андриенко, 1980  \n",
       "\n",
       "[177 rows x 11 columns]"
      ]
     },
     "execution_count": 44,
     "metadata": {},
     "output_type": "execute_result"
    }
   ],
   "source": [
    "peaks = peaks_osm.merge(peaks_far,on = 'name_', how = 'inner')\n",
    "peaks"
   ]
  },
  {
   "cell_type": "code",
   "execution_count": 56,
   "metadata": {},
   "outputs": [
    {
     "data": {
      "text/plain": [
       "array([['С', 'гребню', None, ..., None, None, None],\n",
       "       ['ЮЗ', 'гребню', None, ..., None, None, None],\n",
       "       ['З', 'гребню', None, ..., None, None, None],\n",
       "       ...,\n",
       "       ['с', 'запада', 'по', ..., None, None, None],\n",
       "       ['СЗ', 'кф.', None, ..., None, None, None],\n",
       "       ['С', 'стене', None, ..., None, None, None]], dtype=object)"
      ]
     },
     "execution_count": 56,
     "metadata": {},
     "output_type": "execute_result"
    }
   ],
   "source": [
    "marsh = peaks['Маршрут'].str.split(' ', expand=True).values"
   ]
  },
  {
   "cell_type": "code",
   "execution_count": 69,
   "metadata": {},
   "outputs": [],
   "source": [
    "marsh[np.isin(marsh, [None])] = 'not'"
   ]
  },
  {
   "cell_type": "code",
   "execution_count": 72,
   "metadata": {},
   "outputs": [
    {
     "data": {
      "text/plain": [
       "array(['', '(вариант)', '2-го', '2-му', '4-му', 'not', '«каскадам»', 'В',\n",
       "       'З', 'З-му', 'Катынского', 'С', 'СВ', 'СЗ', 'Ю', 'ЮВ', 'ЮЗ',\n",
       "       'главному', 'гребню', 'гребню-склону', 'гребня', 'доске',\n",
       "       'жандарма', 'запада', 'и', 'канту', 'кулуару', 'кф.', 'левой',\n",
       "       'левому', 'ледника', 'леднику', 'плато', 'по', 'правой', 'правому',\n",
       "       'ребра', 'ребру', 'с', 'севера', 'северо-востока', 'седловину',\n",
       "       'склону', 'стене', 'стены', 'траверс', 'центр.', 'центру', 'части',\n",
       "       'через', 'юга', 'юго-запада', 'языку'], dtype=object)"
      ]
     },
     "execution_count": 72,
     "metadata": {},
     "output_type": "execute_result"
    }
   ],
   "source": [
    "np.unique(marsh)"
   ]
  },
  {
   "cell_type": "code",
   "execution_count": 86,
   "metadata": {},
   "outputs": [],
   "source": [
    "marsh[np.isin(marsh, ['С', 'СВ', 'СЗ', 'Ю', 'ЮВ', 'ЮЗ', 'В', 'З'], invert = True)] = ''"
   ]
  },
  {
   "cell_type": "code",
   "execution_count": 93,
   "metadata": {},
   "outputs": [
    {
     "data": {
      "text/plain": [
       "array([['С', '', '', ..., '', '', ''],\n",
       "       ['ЮЗ', '', '', ..., '', '', ''],\n",
       "       ['З', '', '', ..., '', '', ''],\n",
       "       ...,\n",
       "       ['', '', '', ..., '', '', ''],\n",
       "       ['СЗ', '', '', ..., '', '', ''],\n",
       "       ['С', '', '', ..., '', '', '']], dtype=object)"
      ]
     },
     "execution_count": 93,
     "metadata": {},
     "output_type": "execute_result"
    }
   ],
   "source": [
    "marsh"
   ]
  },
  {
   "cell_type": "code",
   "execution_count": 92,
   "metadata": {},
   "outputs": [
    {
     "ename": "AxisError",
     "evalue": "axis 2 is out of bounds for array of dimension 1",
     "output_type": "error",
     "traceback": [
      "\u001b[1;31m---------------------------------------------------------------------------\u001b[0m",
      "\u001b[1;31mAxisError\u001b[0m                                 Traceback (most recent call last)",
      "\u001b[1;32m<ipython-input-92-8659367bff19>\u001b[0m in \u001b[0;36m<module>\u001b[1;34m\u001b[0m\n\u001b[1;32m----> 1\u001b[1;33m \u001b[0mnp\u001b[0m\u001b[1;33m.\u001b[0m\u001b[0mconcatenate\u001b[0m\u001b[1;33m(\u001b[0m\u001b[0mmarsh\u001b[0m \u001b[1;33m,\u001b[0m \u001b[0maxis\u001b[0m \u001b[1;33m=\u001b[0m \u001b[1;36m2\u001b[0m\u001b[1;33m)\u001b[0m\u001b[1;33m\u001b[0m\u001b[1;33m\u001b[0m\u001b[0m\n\u001b[0m",
      "\u001b[1;32m<__array_function__ internals>\u001b[0m in \u001b[0;36mconcatenate\u001b[1;34m(*args, **kwargs)\u001b[0m\n",
      "\u001b[1;31mAxisError\u001b[0m: axis 2 is out of bounds for array of dimension 1"
     ]
    }
   ],
   "source": [
    "np.concatenate(marsh , axis = 2)"
   ]
  },
  {
   "cell_type": "code",
   "execution_count": 11,
   "metadata": {},
   "outputs": [],
   "source": [
    "mask = gpd.read_file('bezengi_demo_project/bezengi_data.gpkg', layer='cut_boundary')"
   ]
  },
  {
   "cell_type": "code",
   "execution_count": 12,
   "metadata": {},
   "outputs": [
    {
     "data": {
      "text/plain": [
       "<AxesSubplot:>"
      ]
     },
     "execution_count": 12,
     "metadata": {},
     "output_type": "execute_result"
    },
    {
     "data": {
      "image/png": "[encoded data removed]",
      "text/plain": [
       "<Figure size 432x288 with 1 Axes>"
      ]
     },
     "metadata": {
      "needs_background": "light"
     },
     "output_type": "display_data"
    }
   ],
   "source": []
  },
  {
   "cell_type": "markdown",
   "metadata": {},
   "source": [
    "Обработка данных GLIMS"
   ]
  },
  {
   "cell_type": "code",
   "execution_count": 35,
   "metadata": {},
   "outputs": [],
   "source": [
    "#в данных есть какой то не ясный пиздец на стаковерфло есть решение он округляет координаты до заданного знака (precision)\n",
    "import numpy as np\n",
    "from shapely.geometry import shape, mapping\n",
    "def around(coords, precision=5):\n",
    "    result = []\n",
    "    try:\n",
    "        return round(coords, precision)\n",
    "    except TypeError:\n",
    "        for coord in coords:\n",
    "            result.append(around(coord, precision))\n",
    "    return result\n",
    "def layer_precision(geometry, precision=5):\n",
    "    geojson = mapping(geometry)\n",
    "    geojson['coordinates'] = around(geojson['coordinates'],precision)\n",
    "    return shape(geojson)\n"
   ]
  },
  {
   "cell_type": "code",
   "execution_count": 48,
   "metadata": {},
   "outputs": [],
   "source": [
    "ice = gpd.read_file('ice/glims_polygons.shp') \n",
    "ice = ice.explode() #раскрыть мультиполигоны в полигоны \n",
    "ice.loc[:,\"geometry\"] = ice[\"geometry\"].apply(lambda x: layer_precision(x, precision=5)) #округляем геометрии по пятому знаку "
   ]
  },
  {
   "cell_type": "code",
   "execution_count": 59,
   "metadata": {},
   "outputs": [],
   "source": [
    "ice = ice[ice.geog_area == 'Caucausus Region'] #нашел признак по которому можно резать - оставляем только кавказ"
   ]
  },
  {
   "cell_type": "code",
   "execution_count": 61,
   "metadata": {},
   "outputs": [
    {
     "name": "stderr",
     "output_type": "stream",
     "text": [
      "TopologyException: Input geom 0 is invalid: Self-intersection at or near point 43.108800000000002 43.130699999999997 0 at 43.108800000000002 43.130699999999997 0\n"
     ]
    },
    {
     "ename": "TopologicalError",
     "evalue": "The operation 'GEOSIntersection_r' could not be performed. Likely cause is invalidity of the geometry <shapely.geometry.polygon.Polygon object at 0x000001A53FAA3040>",
     "output_type": "error",
     "traceback": [
      "\u001b[1;31m---------------------------------------------------------------------------\u001b[0m",
      "\u001b[1;31mTopologicalError\u001b[0m                          Traceback (most recent call last)",
      "\u001b[1;32m<ipython-input-61-8b6453ece8a3>\u001b[0m in \u001b[0;36m<module>\u001b[1;34m\u001b[0m\n\u001b[1;32m----> 1\u001b[1;33m \u001b[0mgpd\u001b[0m\u001b[1;33m.\u001b[0m\u001b[0mclip\u001b[0m\u001b[1;33m(\u001b[0m\u001b[0mice\u001b[0m\u001b[1;33m,\u001b[0m \u001b[0mmask\u001b[0m\u001b[1;33m)\u001b[0m\u001b[1;33m\u001b[0m\u001b[1;33m\u001b[0m\u001b[0m\n\u001b[0m",
      "\u001b[1;32m~\\Anaconda3\\envs\\gee\\lib\\site-packages\\geopandas\\tools\\clip.py\u001b[0m in \u001b[0;36mclip\u001b[1;34m(gdf, mask, keep_geom_type)\u001b[0m\n\u001b[0;32m    167\u001b[0m \u001b[1;33m\u001b[0m\u001b[0m\n\u001b[0;32m    168\u001b[0m     \u001b[1;32mif\u001b[0m \u001b[0mpoly_idx\u001b[0m\u001b[1;33m.\u001b[0m\u001b[0many\u001b[0m\u001b[1;33m(\u001b[0m\u001b[1;33m)\u001b[0m\u001b[1;33m:\u001b[0m\u001b[1;33m\u001b[0m\u001b[1;33m\u001b[0m\u001b[0m\n\u001b[1;32m--> 169\u001b[1;33m         \u001b[0mpoly_gdf\u001b[0m \u001b[1;33m=\u001b[0m \u001b[0m_clip_line_poly\u001b[0m\u001b[1;33m(\u001b[0m\u001b[0mgdf\u001b[0m\u001b[1;33m[\u001b[0m\u001b[0mpoly_idx\u001b[0m\u001b[1;33m]\u001b[0m\u001b[1;33m,\u001b[0m \u001b[0mpoly\u001b[0m\u001b[1;33m)\u001b[0m\u001b[1;33m\u001b[0m\u001b[1;33m\u001b[0m\u001b[0m\n\u001b[0m\u001b[0;32m    170\u001b[0m     \u001b[1;32melse\u001b[0m\u001b[1;33m:\u001b[0m\u001b[1;33m\u001b[0m\u001b[1;33m\u001b[0m\u001b[0m\n\u001b[0;32m    171\u001b[0m         \u001b[0mpoly_gdf\u001b[0m \u001b[1;33m=\u001b[0m \u001b[1;32mNone\u001b[0m\u001b[1;33m\u001b[0m\u001b[1;33m\u001b[0m\u001b[0m\n",
      "\u001b[1;32m~\\Anaconda3\\envs\\gee\\lib\\site-packages\\geopandas\\tools\\clip.py\u001b[0m in \u001b[0;36m_clip_line_poly\u001b[1;34m(gdf, poly)\u001b[0m\n\u001b[0;32m     67\u001b[0m     \u001b[1;32mif\u001b[0m \u001b[0misinstance\u001b[0m\u001b[1;33m(\u001b[0m\u001b[0mgdf_sub\u001b[0m\u001b[1;33m,\u001b[0m \u001b[0mGeoDataFrame\u001b[0m\u001b[1;33m)\u001b[0m\u001b[1;33m:\u001b[0m\u001b[1;33m\u001b[0m\u001b[1;33m\u001b[0m\u001b[0m\n\u001b[0;32m     68\u001b[0m         \u001b[0mclipped\u001b[0m \u001b[1;33m=\u001b[0m \u001b[0mgdf_sub\u001b[0m\u001b[1;33m.\u001b[0m\u001b[0mcopy\u001b[0m\u001b[1;33m(\u001b[0m\u001b[1;33m)\u001b[0m\u001b[1;33m\u001b[0m\u001b[1;33m\u001b[0m\u001b[0m\n\u001b[1;32m---> 69\u001b[1;33m         \u001b[0mclipped\u001b[0m\u001b[1;33m[\u001b[0m\u001b[1;34m\"geometry\"\u001b[0m\u001b[1;33m]\u001b[0m \u001b[1;33m=\u001b[0m \u001b[0mgdf_sub\u001b[0m\u001b[1;33m.\u001b[0m\u001b[0mintersection\u001b[0m\u001b[1;33m(\u001b[0m\u001b[0mpoly\u001b[0m\u001b[1;33m)\u001b[0m\u001b[1;33m\u001b[0m\u001b[1;33m\u001b[0m\u001b[0m\n\u001b[0m\u001b[0;32m     70\u001b[0m     \u001b[1;32melse\u001b[0m\u001b[1;33m:\u001b[0m\u001b[1;33m\u001b[0m\u001b[1;33m\u001b[0m\u001b[0m\n\u001b[0;32m     71\u001b[0m         \u001b[1;31m# GeoSeries\u001b[0m\u001b[1;33m\u001b[0m\u001b[1;33m\u001b[0m\u001b[1;33m\u001b[0m\u001b[0m\n",
      "\u001b[1;32m~\\Anaconda3\\envs\\gee\\lib\\site-packages\\geopandas\\base.py\u001b[0m in \u001b[0;36mintersection\u001b[1;34m(self, other)\u001b[0m\n\u001b[0;32m    560\u001b[0m             \u001b[0mintersection\u001b[0m \u001b[1;32mwith\u001b[0m\u001b[1;33m.\u001b[0m\u001b[1;33m\u001b[0m\u001b[1;33m\u001b[0m\u001b[0m\n\u001b[0;32m    561\u001b[0m         \"\"\"\n\u001b[1;32m--> 562\u001b[1;33m         \u001b[1;32mreturn\u001b[0m \u001b[0m_binary_geo\u001b[0m\u001b[1;33m(\u001b[0m\u001b[1;34m\"intersection\"\u001b[0m\u001b[1;33m,\u001b[0m \u001b[0mself\u001b[0m\u001b[1;33m,\u001b[0m \u001b[0mother\u001b[0m\u001b[1;33m)\u001b[0m\u001b[1;33m\u001b[0m\u001b[1;33m\u001b[0m\u001b[0m\n\u001b[0m\u001b[0;32m    563\u001b[0m \u001b[1;33m\u001b[0m\u001b[0m\n\u001b[0;32m    564\u001b[0m     \u001b[1;31m#\u001b[0m\u001b[1;33m\u001b[0m\u001b[1;33m\u001b[0m\u001b[1;33m\u001b[0m\u001b[0m\n",
      "\u001b[1;32m~\\Anaconda3\\envs\\gee\\lib\\site-packages\\geopandas\\base.py\u001b[0m in \u001b[0;36m_binary_geo\u001b[1;34m(op, this, other)\u001b[0m\n\u001b[0;32m     58\u001b[0m     \u001b[1;32mfrom\u001b[0m \u001b[1;33m.\u001b[0m\u001b[0mgeoseries\u001b[0m \u001b[1;32mimport\u001b[0m \u001b[0mGeoSeries\u001b[0m\u001b[1;33m\u001b[0m\u001b[1;33m\u001b[0m\u001b[0m\n\u001b[0;32m     59\u001b[0m \u001b[1;33m\u001b[0m\u001b[0m\n\u001b[1;32m---> 60\u001b[1;33m     \u001b[0mgeoms\u001b[0m\u001b[1;33m,\u001b[0m \u001b[0mindex\u001b[0m \u001b[1;33m=\u001b[0m \u001b[0m_delegate_binary_method\u001b[0m\u001b[1;33m(\u001b[0m\u001b[0mop\u001b[0m\u001b[1;33m,\u001b[0m \u001b[0mthis\u001b[0m\u001b[1;33m,\u001b[0m \u001b[0mother\u001b[0m\u001b[1;33m)\u001b[0m\u001b[1;33m\u001b[0m\u001b[1;33m\u001b[0m\u001b[0m\n\u001b[0m\u001b[0;32m     61\u001b[0m     \u001b[1;32mreturn\u001b[0m \u001b[0mGeoSeries\u001b[0m\u001b[1;33m(\u001b[0m\u001b[0mgeoms\u001b[0m\u001b[1;33m.\u001b[0m\u001b[0mdata\u001b[0m\u001b[1;33m,\u001b[0m \u001b[0mindex\u001b[0m\u001b[1;33m=\u001b[0m\u001b[0mindex\u001b[0m\u001b[1;33m,\u001b[0m \u001b[0mcrs\u001b[0m\u001b[1;33m=\u001b[0m\u001b[0mthis\u001b[0m\u001b[1;33m.\u001b[0m\u001b[0mcrs\u001b[0m\u001b[1;33m)\u001b[0m\u001b[1;33m\u001b[0m\u001b[1;33m\u001b[0m\u001b[0m\n\u001b[0;32m     62\u001b[0m \u001b[1;33m\u001b[0m\u001b[0m\n",
      "\u001b[1;32m~\\Anaconda3\\envs\\gee\\lib\\site-packages\\geopandas\\base.py\u001b[0m in \u001b[0;36m_delegate_binary_method\u001b[1;34m(op, this, other, *args, **kwargs)\u001b[0m\n\u001b[0;32m     49\u001b[0m         \u001b[1;32mraise\u001b[0m \u001b[0mTypeError\u001b[0m\u001b[1;33m(\u001b[0m\u001b[0mtype\u001b[0m\u001b[1;33m(\u001b[0m\u001b[0mthis\u001b[0m\u001b[1;33m)\u001b[0m\u001b[1;33m,\u001b[0m \u001b[0mtype\u001b[0m\u001b[1;33m(\u001b[0m\u001b[0mother\u001b[0m\u001b[1;33m)\u001b[0m\u001b[1;33m)\u001b[0m\u001b[1;33m\u001b[0m\u001b[1;33m\u001b[0m\u001b[0m\n\u001b[0;32m     50\u001b[0m \u001b[1;33m\u001b[0m\u001b[0m\n\u001b[1;32m---> 51\u001b[1;33m     \u001b[0mdata\u001b[0m \u001b[1;33m=\u001b[0m \u001b[0mgetattr\u001b[0m\u001b[1;33m(\u001b[0m\u001b[0ma_this\u001b[0m\u001b[1;33m,\u001b[0m \u001b[0mop\u001b[0m\u001b[1;33m)\u001b[0m\u001b[1;33m(\u001b[0m\u001b[0mother\u001b[0m\u001b[1;33m,\u001b[0m \u001b[1;33m*\u001b[0m\u001b[0margs\u001b[0m\u001b[1;33m,\u001b[0m \u001b[1;33m**\u001b[0m\u001b[0mkwargs\u001b[0m\u001b[1;33m)\u001b[0m\u001b[1;33m\u001b[0m\u001b[1;33m\u001b[0m\u001b[0m\n\u001b[0m\u001b[0;32m     52\u001b[0m     \u001b[1;32mreturn\u001b[0m \u001b[0mdata\u001b[0m\u001b[1;33m,\u001b[0m \u001b[0mthis\u001b[0m\u001b[1;33m.\u001b[0m\u001b[0mindex\u001b[0m\u001b[1;33m\u001b[0m\u001b[1;33m\u001b[0m\u001b[0m\n\u001b[0;32m     53\u001b[0m \u001b[1;33m\u001b[0m\u001b[0m\n",
      "\u001b[1;32m~\\Anaconda3\\envs\\gee\\lib\\site-packages\\geopandas\\array.py\u001b[0m in \u001b[0;36mintersection\u001b[1;34m(self, other)\u001b[0m\n\u001b[0;32m    551\u001b[0m     \u001b[1;32mdef\u001b[0m \u001b[0mintersection\u001b[0m\u001b[1;33m(\u001b[0m\u001b[0mself\u001b[0m\u001b[1;33m,\u001b[0m \u001b[0mother\u001b[0m\u001b[1;33m)\u001b[0m\u001b[1;33m:\u001b[0m\u001b[1;33m\u001b[0m\u001b[1;33m\u001b[0m\u001b[0m\n\u001b[0;32m    552\u001b[0m         return GeometryArray(\n\u001b[1;32m--> 553\u001b[1;33m             \u001b[0mself\u001b[0m\u001b[1;33m.\u001b[0m\u001b[0m_binary_method\u001b[0m\u001b[1;33m(\u001b[0m\u001b[1;34m\"intersection\"\u001b[0m\u001b[1;33m,\u001b[0m \u001b[0mself\u001b[0m\u001b[1;33m,\u001b[0m \u001b[0mother\u001b[0m\u001b[1;33m)\u001b[0m\u001b[1;33m,\u001b[0m \u001b[0mcrs\u001b[0m\u001b[1;33m=\u001b[0m\u001b[0mself\u001b[0m\u001b[1;33m.\u001b[0m\u001b[0mcrs\u001b[0m\u001b[1;33m\u001b[0m\u001b[1;33m\u001b[0m\u001b[0m\n\u001b[0m\u001b[0;32m    554\u001b[0m         )\n\u001b[0;32m    555\u001b[0m \u001b[1;33m\u001b[0m\u001b[0m\n",
      "\u001b[1;32m~\\Anaconda3\\envs\\gee\\lib\\site-packages\\geopandas\\array.py\u001b[0m in \u001b[0;36m_binary_method\u001b[1;34m(op, left, right, **kwargs)\u001b[0m\n\u001b[0;32m    483\u001b[0m             \u001b[0mright\u001b[0m \u001b[1;33m=\u001b[0m \u001b[0mright\u001b[0m\u001b[1;33m.\u001b[0m\u001b[0mdata\u001b[0m\u001b[1;33m\u001b[0m\u001b[1;33m\u001b[0m\u001b[0m\n\u001b[0;32m    484\u001b[0m \u001b[1;33m\u001b[0m\u001b[0m\n\u001b[1;32m--> 485\u001b[1;33m         \u001b[1;32mreturn\u001b[0m \u001b[0mgetattr\u001b[0m\u001b[1;33m(\u001b[0m\u001b[0mvectorized\u001b[0m\u001b[1;33m,\u001b[0m \u001b[0mop\u001b[0m\u001b[1;33m)\u001b[0m\u001b[1;33m(\u001b[0m\u001b[0mleft\u001b[0m\u001b[1;33m.\u001b[0m\u001b[0mdata\u001b[0m\u001b[1;33m,\u001b[0m \u001b[0mright\u001b[0m\u001b[1;33m,\u001b[0m \u001b[1;33m**\u001b[0m\u001b[0mkwargs\u001b[0m\u001b[1;33m)\u001b[0m\u001b[1;33m\u001b[0m\u001b[1;33m\u001b[0m\u001b[0m\n\u001b[0m\u001b[0;32m    486\u001b[0m \u001b[1;33m\u001b[0m\u001b[0m\n\u001b[0;32m    487\u001b[0m     \u001b[1;32mdef\u001b[0m \u001b[0mcovers\u001b[0m\u001b[1;33m(\u001b[0m\u001b[0mself\u001b[0m\u001b[1;33m,\u001b[0m \u001b[0mother\u001b[0m\u001b[1;33m)\u001b[0m\u001b[1;33m:\u001b[0m\u001b[1;33m\u001b[0m\u001b[1;33m\u001b[0m\u001b[0m\n",
      "\u001b[1;32m~\\Anaconda3\\envs\\gee\\lib\\site-packages\\geopandas\\_vectorized.py\u001b[0m in \u001b[0;36mintersection\u001b[1;34m(data, other)\u001b[0m\n\u001b[0;32m    721\u001b[0m         \u001b[1;32mreturn\u001b[0m \u001b[0m_binary_method\u001b[0m\u001b[1;33m(\u001b[0m\u001b[1;34m\"intersection\"\u001b[0m\u001b[1;33m,\u001b[0m \u001b[0mdata\u001b[0m\u001b[1;33m,\u001b[0m \u001b[0mother\u001b[0m\u001b[1;33m)\u001b[0m\u001b[1;33m\u001b[0m\u001b[1;33m\u001b[0m\u001b[0m\n\u001b[0;32m    722\u001b[0m     \u001b[1;32melse\u001b[0m\u001b[1;33m:\u001b[0m\u001b[1;33m\u001b[0m\u001b[1;33m\u001b[0m\u001b[0m\n\u001b[1;32m--> 723\u001b[1;33m         \u001b[1;32mreturn\u001b[0m \u001b[0m_binary_geo\u001b[0m\u001b[1;33m(\u001b[0m\u001b[1;34m\"intersection\"\u001b[0m\u001b[1;33m,\u001b[0m \u001b[0mdata\u001b[0m\u001b[1;33m,\u001b[0m \u001b[0mother\u001b[0m\u001b[1;33m)\u001b[0m\u001b[1;33m\u001b[0m\u001b[1;33m\u001b[0m\u001b[0m\n\u001b[0m\u001b[0;32m    724\u001b[0m \u001b[1;33m\u001b[0m\u001b[0m\n\u001b[0;32m    725\u001b[0m \u001b[1;33m\u001b[0m\u001b[0m\n",
      "\u001b[1;32m~\\Anaconda3\\envs\\gee\\lib\\site-packages\\geopandas\\_vectorized.py\u001b[0m in \u001b[0;36m_binary_geo\u001b[1;34m(op, left, right)\u001b[0m\n\u001b[0;32m    281\u001b[0m         \u001b[1;31m# result are only those, numpy will coerce it to empty 2D array\u001b[0m\u001b[1;33m\u001b[0m\u001b[1;33m\u001b[0m\u001b[1;33m\u001b[0m\u001b[0m\n\u001b[0;32m    282\u001b[0m         \u001b[0mdata\u001b[0m \u001b[1;33m=\u001b[0m \u001b[0mnp\u001b[0m\u001b[1;33m.\u001b[0m\u001b[0mempty\u001b[0m\u001b[1;33m(\u001b[0m\u001b[0mlen\u001b[0m\u001b[1;33m(\u001b[0m\u001b[0mleft\u001b[0m\u001b[1;33m)\u001b[0m\u001b[1;33m,\u001b[0m \u001b[0mdtype\u001b[0m\u001b[1;33m=\u001b[0m\u001b[0mobject\u001b[0m\u001b[1;33m)\u001b[0m\u001b[1;33m\u001b[0m\u001b[1;33m\u001b[0m\u001b[0m\n\u001b[1;32m--> 283\u001b[1;33m         data[:] = [\n\u001b[0m\u001b[0;32m    284\u001b[0m             \u001b[0mgetattr\u001b[0m\u001b[1;33m(\u001b[0m\u001b[0ms\u001b[0m\u001b[1;33m,\u001b[0m \u001b[0mop\u001b[0m\u001b[1;33m)\u001b[0m\u001b[1;33m(\u001b[0m\u001b[0mright\u001b[0m\u001b[1;33m)\u001b[0m \u001b[1;32mif\u001b[0m \u001b[0ms\u001b[0m \u001b[1;32mis\u001b[0m \u001b[1;32mnot\u001b[0m \u001b[1;32mNone\u001b[0m \u001b[1;32mand\u001b[0m \u001b[0mright\u001b[0m \u001b[1;32mis\u001b[0m \u001b[1;32mnot\u001b[0m \u001b[1;32mNone\u001b[0m \u001b[1;32melse\u001b[0m \u001b[1;32mNone\u001b[0m\u001b[1;33m\u001b[0m\u001b[1;33m\u001b[0m\u001b[0m\n\u001b[0;32m    285\u001b[0m             \u001b[1;32mfor\u001b[0m \u001b[0ms\u001b[0m \u001b[1;32min\u001b[0m \u001b[0mleft\u001b[0m\u001b[1;33m\u001b[0m\u001b[1;33m\u001b[0m\u001b[0m\n",
      "\u001b[1;32m~\\Anaconda3\\envs\\gee\\lib\\site-packages\\geopandas\\_vectorized.py\u001b[0m in \u001b[0;36m<listcomp>\u001b[1;34m(.0)\u001b[0m\n\u001b[0;32m    282\u001b[0m         \u001b[0mdata\u001b[0m \u001b[1;33m=\u001b[0m \u001b[0mnp\u001b[0m\u001b[1;33m.\u001b[0m\u001b[0mempty\u001b[0m\u001b[1;33m(\u001b[0m\u001b[0mlen\u001b[0m\u001b[1;33m(\u001b[0m\u001b[0mleft\u001b[0m\u001b[1;33m)\u001b[0m\u001b[1;33m,\u001b[0m \u001b[0mdtype\u001b[0m\u001b[1;33m=\u001b[0m\u001b[0mobject\u001b[0m\u001b[1;33m)\u001b[0m\u001b[1;33m\u001b[0m\u001b[1;33m\u001b[0m\u001b[0m\n\u001b[0;32m    283\u001b[0m         data[:] = [\n\u001b[1;32m--> 284\u001b[1;33m             \u001b[0mgetattr\u001b[0m\u001b[1;33m(\u001b[0m\u001b[0ms\u001b[0m\u001b[1;33m,\u001b[0m \u001b[0mop\u001b[0m\u001b[1;33m)\u001b[0m\u001b[1;33m(\u001b[0m\u001b[0mright\u001b[0m\u001b[1;33m)\u001b[0m \u001b[1;32mif\u001b[0m \u001b[0ms\u001b[0m \u001b[1;32mis\u001b[0m \u001b[1;32mnot\u001b[0m \u001b[1;32mNone\u001b[0m \u001b[1;32mand\u001b[0m \u001b[0mright\u001b[0m \u001b[1;32mis\u001b[0m \u001b[1;32mnot\u001b[0m \u001b[1;32mNone\u001b[0m \u001b[1;32melse\u001b[0m \u001b[1;32mNone\u001b[0m\u001b[1;33m\u001b[0m\u001b[1;33m\u001b[0m\u001b[0m\n\u001b[0m\u001b[0;32m    285\u001b[0m             \u001b[1;32mfor\u001b[0m \u001b[0ms\u001b[0m \u001b[1;32min\u001b[0m \u001b[0mleft\u001b[0m\u001b[1;33m\u001b[0m\u001b[1;33m\u001b[0m\u001b[0m\n\u001b[0;32m    286\u001b[0m         ]\n",
      "\u001b[1;32m~\\Anaconda3\\envs\\gee\\lib\\site-packages\\shapely\\geometry\\base.py\u001b[0m in \u001b[0;36mintersection\u001b[1;34m(self, other)\u001b[0m\n\u001b[0;32m    674\u001b[0m     \u001b[1;32mdef\u001b[0m \u001b[0mintersection\u001b[0m\u001b[1;33m(\u001b[0m\u001b[0mself\u001b[0m\u001b[1;33m,\u001b[0m \u001b[0mother\u001b[0m\u001b[1;33m)\u001b[0m\u001b[1;33m:\u001b[0m\u001b[1;33m\u001b[0m\u001b[1;33m\u001b[0m\u001b[0m\n\u001b[0;32m    675\u001b[0m         \u001b[1;34m\"\"\"Returns the intersection of the geometries\"\"\"\u001b[0m\u001b[1;33m\u001b[0m\u001b[1;33m\u001b[0m\u001b[0m\n\u001b[1;32m--> 676\u001b[1;33m         \u001b[1;32mreturn\u001b[0m \u001b[0mgeom_factory\u001b[0m\u001b[1;33m(\u001b[0m\u001b[0mself\u001b[0m\u001b[1;33m.\u001b[0m\u001b[0mimpl\u001b[0m\u001b[1;33m[\u001b[0m\u001b[1;34m'intersection'\u001b[0m\u001b[1;33m]\u001b[0m\u001b[1;33m(\u001b[0m\u001b[0mself\u001b[0m\u001b[1;33m,\u001b[0m \u001b[0mother\u001b[0m\u001b[1;33m)\u001b[0m\u001b[1;33m)\u001b[0m\u001b[1;33m\u001b[0m\u001b[1;33m\u001b[0m\u001b[0m\n\u001b[0m\u001b[0;32m    677\u001b[0m \u001b[1;33m\u001b[0m\u001b[0m\n\u001b[0;32m    678\u001b[0m     \u001b[1;32mdef\u001b[0m \u001b[0msymmetric_difference\u001b[0m\u001b[1;33m(\u001b[0m\u001b[0mself\u001b[0m\u001b[1;33m,\u001b[0m \u001b[0mother\u001b[0m\u001b[1;33m)\u001b[0m\u001b[1;33m:\u001b[0m\u001b[1;33m\u001b[0m\u001b[1;33m\u001b[0m\u001b[0m\n",
      "\u001b[1;32m~\\Anaconda3\\envs\\gee\\lib\\site-packages\\shapely\\topology.py\u001b[0m in \u001b[0;36m__call__\u001b[1;34m(self, this, other, *args)\u001b[0m\n\u001b[0;32m     68\u001b[0m             err = TopologicalError(\n\u001b[0;32m     69\u001b[0m                     \"This operation could not be performed. Reason: unknown\")\n\u001b[1;32m---> 70\u001b[1;33m             \u001b[0mself\u001b[0m\u001b[1;33m.\u001b[0m\u001b[0m_check_topology\u001b[0m\u001b[1;33m(\u001b[0m\u001b[0merr\u001b[0m\u001b[1;33m,\u001b[0m \u001b[0mthis\u001b[0m\u001b[1;33m,\u001b[0m \u001b[0mother\u001b[0m\u001b[1;33m)\u001b[0m\u001b[1;33m\u001b[0m\u001b[1;33m\u001b[0m\u001b[0m\n\u001b[0m\u001b[0;32m     71\u001b[0m         \u001b[1;32mreturn\u001b[0m \u001b[0mproduct\u001b[0m\u001b[1;33m\u001b[0m\u001b[1;33m\u001b[0m\u001b[0m\n\u001b[0;32m     72\u001b[0m \u001b[1;33m\u001b[0m\u001b[0m\n",
      "\u001b[1;32m~\\Anaconda3\\envs\\gee\\lib\\site-packages\\shapely\\topology.py\u001b[0m in \u001b[0;36m_check_topology\u001b[1;34m(self, err, *geoms)\u001b[0m\n\u001b[0;32m     33\u001b[0m         \u001b[1;32mfor\u001b[0m \u001b[0mgeom\u001b[0m \u001b[1;32min\u001b[0m \u001b[0mgeoms\u001b[0m\u001b[1;33m:\u001b[0m\u001b[1;33m\u001b[0m\u001b[1;33m\u001b[0m\u001b[0m\n\u001b[0;32m     34\u001b[0m             \u001b[1;32mif\u001b[0m \u001b[1;32mnot\u001b[0m \u001b[0mgeom\u001b[0m\u001b[1;33m.\u001b[0m\u001b[0mis_valid\u001b[0m\u001b[1;33m:\u001b[0m\u001b[1;33m\u001b[0m\u001b[1;33m\u001b[0m\u001b[0m\n\u001b[1;32m---> 35\u001b[1;33m                 raise TopologicalError(\n\u001b[0m\u001b[0;32m     36\u001b[0m                     \u001b[1;34m\"The operation '%s' could not be performed. \"\u001b[0m\u001b[1;33m\u001b[0m\u001b[1;33m\u001b[0m\u001b[0m\n\u001b[0;32m     37\u001b[0m                     \"Likely cause is invalidity of the geometry %s\" % (\n",
      "\u001b[1;31mTopologicalError\u001b[0m: The operation 'GEOSIntersection_r' could not be performed. Likely cause is invalidity of the geometry <shapely.geometry.polygon.Polygon object at 0x000001A53FAA3040>"
     ]
    }
   ],
   "source": [
    "gpd.clip(ice, mask)"
   ]
  },
  {
   "cell_type": "code",
   "execution_count": 62,
   "metadata": {},
   "outputs": [],
   "source": [
    "ice.to_file('ice.geojson')"
   ]
  },
  {
   "cell_type": "markdown",
   "metadata": {},
   "source": [
    "нужно отфильровать данные по времени + уникальности "
   ]
  },
  {
   "cell_type": "code",
   "execution_count": null,
   "metadata": {},
   "outputs": [],
   "source": []
  }
 ],
 "metadata": {
  "interpreter": {
   "hash": "50b6717627593aefd50e51670e42424ecb36e3d1a6020ba1b74ceefbbbb2094d"
  },
  "kernelspec": {
   "display_name": "Python 3.8.8 ('gee')",
   "language": "python",
   "name": "python3"
  },
  "language_info": {
   "codemirror_mode": {
    "name": "ipython",
    "version": 3
   },
   "file_extension": ".py",
   "mimetype": "text/x-python",
   "name": "python",
   "nbconvert_exporter": "python",
   "pygments_lexer": "ipython3",
   "version": "3.8.8"
  },
  "orig_nbformat": 4
 },
 "nbformat": 4,
 "nbformat_minor": 2
}
